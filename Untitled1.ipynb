{
  "nbformat": 4,
  "nbformat_minor": 0,
  "metadata": {
    "colab": {
      "name": "Untitled1.ipynb",
      "provenance": [],
      "authorship_tag": "ABX9TyMpiiYGxGGwUBKk/huokRHA",
      "include_colab_link": true
    },
    "kernelspec": {
      "name": "python3",
      "display_name": "Python 3"
    }
  },
  "cells": [
    {
      "cell_type": "markdown",
      "metadata": {
        "id": "view-in-github",
        "colab_type": "text"
      },
      "source": [
        "<a href=\"https://colab.research.google.com/github/CGl0215/Computational-Thinking/blob/master/Untitled1.ipynb\" target=\"_parent\"><img src=\"https://colab.research.google.com/assets/colab-badge.svg\" alt=\"Open In Colab\"/></a>"
      ]
    },
    {
      "cell_type": "markdown",
      "metadata": {
        "id": "kUKv0PLngzOB"
      },
      "source": [
        "習題一:服裝訂購系統，假設上衣為300元、褲子為350元、背心為400元"
      ]
    },
    {
      "cell_type": "code",
      "metadata": {
        "id": "Q5PdtrSOgvZF",
        "outputId": "059c5eb3-478e-471b-d8c7-5742ee6fdcb1",
        "colab": {
          "base_uri": "https://localhost:8080/"
        }
      },
      "source": [
        "clothes=int(input('please enter the quantity of the clothes'))\n",
        "trousers=int(input('please enter the quantity of the trousers'))\n",
        "vest=int(input('please enter the quantity of the vest'))\n",
        "\n",
        "total = clothes*300+trousers*350+vest*400\n",
        "print('the total price of the clothes',total)"
      ],
      "execution_count": null,
      "outputs": [
        {
          "output_type": "stream",
          "text": [
            "please enter the quantity of the clothes1\n",
            "please enter the quantity of the trousers1\n",
            "please enter the quantity of the vest1\n",
            "the total price of the clothes 1050\n"
          ],
          "name": "stdout"
        }
      ]
    },
    {
      "cell_type": "markdown",
      "metadata": {
        "id": "nkgByPF4i0Bn"
      },
      "source": [
        "習題二:賣場買飲料，假設一罐20元，一打賣200元"
      ]
    },
    {
      "cell_type": "code",
      "metadata": {
        "id": "9AyRvJQkizpa",
        "outputId": "ccd0a11d-f0b4-42cc-9e3f-80ecb1ff8017",
        "colab": {
          "base_uri": "https://localhost:8080/"
        }
      },
      "source": [
        "cans =int(input(\"請輸入購買飲料的總數?\"))\n",
        "\n",
        "total =(cans//12)*200 + (cans%12)*20\n",
        "\n",
        "print(\"需花費\",total)"
      ],
      "execution_count": null,
      "outputs": [
        {
          "output_type": "stream",
          "text": [
            "請輸入購買飲料的總數?10\n",
            "需花費 200\n"
          ],
          "name": "stdout"
        }
      ]
    },
    {
      "cell_type": "markdown",
      "metadata": {
        "id": "gLnXDU3xkH2H"
      },
      "source": [
        "習題3:求三數總和與平均"
      ]
    },
    {
      "cell_type": "code",
      "metadata": {
        "id": "--kYyT2skP1x",
        "outputId": "a0c5052a-15d5-4e32-c68d-c0d7b5b39efc",
        "colab": {
          "base_uri": "https://localhost:8080/"
        }
      },
      "source": [
        "fir =int(input(\"請輸入第一次期中考成績?\"))\n",
        "sec = int(input(\"請輸入第二次期中考成績?\"))\n",
        "final=int(input(\"請輸入期末考成績?\"))\n",
        "\n",
        "sum=fir+sec+final\n",
        "avg=sum/3\n",
        "\n",
        "print(\"總分為\",sum,\"平均為\",avg)"
      ],
      "execution_count": null,
      "outputs": [
        {
          "output_type": "stream",
          "text": [
            "請輸入第一次期中考成績?87\n",
            "請輸入第二次期中考成績?89\n",
            "請輸入期末考成績?90\n",
            "總分為 266 平均為 88.66666666666667\n"
          ],
          "name": "stdout"
        }
      ]
    }
  ]
}