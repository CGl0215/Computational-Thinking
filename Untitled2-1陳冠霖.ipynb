{
  "nbformat": 4,
  "nbformat_minor": 0,
  "metadata": {
    "colab": {
      "name": "Untitled2-1陳冠霖.ipynb",
      "provenance": [],
      "authorship_tag": "ABX9TyOWkqzGSsgCCeO5BtMFS5m0",
      "include_colab_link": true
    },
    "kernelspec": {
      "name": "python3",
      "display_name": "Python 3"
    }
  },
  "cells": [
    {
      "cell_type": "markdown",
      "metadata": {
        "id": "view-in-github",
        "colab_type": "text"
      },
      "source": [
        "<a href=\"https://colab.research.google.com/github/CGl0215/Computational-Thinking/blob/master/Untitled2-1%E9%99%B3%E5%86%A0%E9%9C%96.ipynb\" target=\"_parent\"><img src=\"https://colab.research.google.com/assets/colab-badge.svg\" alt=\"Open In Colab\"/></a>"
      ]
    },
    {
      "cell_type": "code",
      "metadata": {
        "colab": {
          "base_uri": "https://localhost:8080/"
        },
        "id": "19ivgsm6fR43",
        "outputId": "5a486482-d1f5-4f54-fef4-a58242b9becc"
      },
      "source": [
        "time = 372\n",
        "hour = time // 60 # 商數\n",
        "minute = time % 60 # 餘數\n",
        "\n",
        "print(time, \"是\", hour, \"小時\", minute, \"分鐘\")\n",
        "\n",
        "hour1 = int (time / 60)\n",
        "minute1 = ((time / 60) - hour1) * 60\n",
        "minute1 = round(minute1)\n",
        "print(time, \"是\", hour1, \"小時\", minute1, \"分鐘\")"
      ],
      "execution_count": null,
      "outputs": [
        {
          "output_type": "stream",
          "text": [
            "372 是 6 小時 12 分鐘\n",
            "372 是 6 小時 12 分鐘\n"
          ],
          "name": "stdout"
        }
      ]
    },
    {
      "cell_type": "code",
      "metadata": {
        "id": "Tir4-sfRjDF_"
      },
      "source": [
        ""
      ],
      "execution_count": null,
      "outputs": []
    }
  ]
}