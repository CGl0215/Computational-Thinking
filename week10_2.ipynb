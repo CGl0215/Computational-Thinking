{
  "nbformat": 4,
  "nbformat_minor": 0,
  "metadata": {
    "colab": {
      "name": "week10-2.ipynb",
      "provenance": [],
      "authorship_tag": "ABX9TyO9eFgMtTgPNou1rGbfSwwS",
      "include_colab_link": true
    },
    "kernelspec": {
      "name": "python3",
      "display_name": "Python 3"
    }
  },
  "cells": [
    {
      "cell_type": "markdown",
      "metadata": {
        "id": "view-in-github",
        "colab_type": "text"
      },
      "source": [
        "<a href=\"https://colab.research.google.com/github/CGl0215/Computational-Thinking/blob/master/week10_2.ipynb\" target=\"_parent\"><img src=\"https://colab.research.google.com/assets/colab-badge.svg\" alt=\"Open In Colab\"/></a>"
      ]
    },
    {
      "cell_type": "code",
      "metadata": {
        "colab": {
          "base_uri": "https://localhost:8080/"
        },
        "id": "Nj6AYtFcisCf",
        "outputId": "72a3dd0c-a537-49ae-b182-ab96d0ba4d87"
      },
      "source": [
        "number=int(input('請輸入座號?'))\n",
        "team=(number//5.5)\n",
        "team_number=(team+1)\n",
        "print(f'組別為{team_number}')"
      ],
      "execution_count": null,
      "outputs": [
        {
          "output_type": "stream",
          "text": [
            "請輸入座號?5\n",
            "組別為1.0\n"
          ],
          "name": "stdout"
        }
      ]
    },
    {
      "cell_type": "markdown",
      "metadata": {
        "id": "sPwzi6_dkBg3"
      },
      "source": [
        "分組報告"
      ]
    }
  ]
}