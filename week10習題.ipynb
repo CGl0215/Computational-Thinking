{
  "nbformat": 4,
  "nbformat_minor": 0,
  "metadata": {
    "colab": {
      "name": "week10習題.ipynb",
      "provenance": [],
      "authorship_tag": "ABX9TyN0AbXMJG4Hk89Xxn0KKWUu",
      "include_colab_link": true
    },
    "kernelspec": {
      "name": "python3",
      "display_name": "Python 3"
    }
  },
  "cells": [
    {
      "cell_type": "markdown",
      "metadata": {
        "id": "view-in-github",
        "colab_type": "text"
      },
      "source": [
        "<a href=\"https://colab.research.google.com/github/CGl0215/Computational-Thinking/blob/master/week10%E7%BF%92%E9%A1%8C.ipynb\" target=\"_parent\"><img src=\"https://colab.research.google.com/assets/colab-badge.svg\" alt=\"Open In Colab\"/></a>"
      ]
    },
    {
      "cell_type": "code",
      "metadata": {
        "colab": {
          "base_uri": "https://localhost:8080/"
        },
        "id": "ErSIm4tVvBca",
        "outputId": "88e00c3c-20e6-4b95-cb7c-d506cb663800"
      },
      "source": [
        "number = int(input(\"請輸入你的座號\"))\n",
        "group=number/5\n",
        "import math\n",
        "group = math.ceil(number/5)\n",
        "print(\"座號是\", number, \"為第\", group, \"組\")"
      ],
      "execution_count": 4,
      "outputs": [
        {
          "output_type": "stream",
          "text": [
            "請輸入你的座號26\n",
            "座號是 26 為第 6 組\n"
          ],
          "name": "stdout"
        }
      ]
    }
  ]
}