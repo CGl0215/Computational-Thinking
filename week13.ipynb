{
  "nbformat": 4,
  "nbformat_minor": 0,
  "metadata": {
    "colab": {
      "name": "week13.ipynb",
      "provenance": [],
      "authorship_tag": "ABX9TyPfHa+RfZX1ttnZV2GCJpx+",
      "include_colab_link": true
    },
    "kernelspec": {
      "name": "python3",
      "display_name": "Python 3"
    }
  },
  "cells": [
    {
      "cell_type": "markdown",
      "metadata": {
        "id": "view-in-github",
        "colab_type": "text"
      },
      "source": [
        "<a href=\"https://colab.research.google.com/github/CGl0215/Computational-Thinking/blob/master/week13.ipynb\" target=\"_parent\"><img src=\"https://colab.research.google.com/assets/colab-badge.svg\" alt=\"Open In Colab\"/></a>"
      ]
    },
    {
      "cell_type": "code",
      "metadata": {
        "colab": {
          "base_uri": "https://localhost:8080/"
        },
        "id": "6yPQPQHheXma",
        "outputId": "0c2a7306-547f-4899-a874-146f31d2c316"
      },
      "source": [
        "for i in range(0,5,1):\r\n",
        "  print(\"hello\")"
      ],
      "execution_count": null,
      "outputs": [
        {
          "output_type": "stream",
          "text": [
            "hello\n",
            "hello\n",
            "hello\n",
            "hello\n",
            "hello\n"
          ],
          "name": "stdout"
        }
      ]
    },
    {
      "cell_type": "code",
      "metadata": {
        "colab": {
          "base_uri": "https://localhost:8080/"
        },
        "id": "3QZbJgk9lCTF",
        "outputId": "214e8419-272a-4233-d992-86db4e8dc84b"
      },
      "source": [
        "for i in range(100,90,-3):\r\n",
        "  print(i)"
      ],
      "execution_count": null,
      "outputs": [
        {
          "output_type": "stream",
          "text": [
            "100\n",
            "97\n",
            "94\n",
            "91\n"
          ],
          "name": "stdout"
        }
      ]
    },
    {
      "cell_type": "code",
      "metadata": {
        "colab": {
          "base_uri": "https://localhost:8080/"
        },
        "id": "i18K8VqNv1IU",
        "outputId": "eb64a10e-5706-42a9-fb01-94fa8d960ca5"
      },
      "source": [
        "sum = 0 #初始條件\r\n",
        "for i in range(1, 6, 1): #判斷條件\r\n",
        " sum = sum + i*i #更新條件 \r\n",
        "print('total is', sum)"
      ],
      "execution_count": null,
      "outputs": [
        {
          "output_type": "stream",
          "text": [
            "total is 55\n"
          ],
          "name": "stdout"
        }
      ]
    },
    {
      "cell_type": "code",
      "metadata": {
        "colab": {
          "base_uri": "https://localhost:8080/"
        },
        "id": "RbeduRWGr1gl",
        "outputId": "66e262b8-92fb-4099-e995-7c976221b6c5"
      },
      "source": [
        "sum=0\r\n",
        "for i in range(3,14,3):\r\n",
        "  sum=sum+i\r\n",
        "print(\"total is\",sum) \r\n"
      ],
      "execution_count": null,
      "outputs": [
        {
          "output_type": "stream",
          "text": [
            "total is 30\n"
          ],
          "name": "stdout"
        }
      ]
    }
  ]
}